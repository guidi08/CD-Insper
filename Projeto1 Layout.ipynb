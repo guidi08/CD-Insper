{
 "cells": [
  {
   "cell_type": "markdown",
   "metadata": {},
   "source": [
    "___\n",
    "# Ciência dos Dados - PROJETO 1"
   ]
  },
  {
   "cell_type": "markdown",
   "metadata": {},
   "source": [
    "## Guilherme Leite\n",
    "___"
   ]
  },
  {
   "cell_type": "markdown",
   "metadata": {},
   "source": [
    "## Acesso à internet de pessoas de baixa renda em relação ao PIB do estado em que moram."
   ]
  },
  {
   "cell_type": "markdown",
   "metadata": {},
   "source": [
    "___\n",
    "## Introdução\n",
    "\n",
    "Como se da o acesso à internet em famílias de baixa renda em relação ao estado em que residem.\n"
   ]
  },
  {
   "cell_type": "markdown",
   "metadata": {},
   "source": [
    "___\n",
    "## Análise e Resultados"
   ]
  },
  {
   "cell_type": "code",
   "execution_count": 2,
   "metadata": {
    "collapsed": true
   },
   "outputs": [],
   "source": [
    "%matplotlib inline\n",
    "import pandas as pd\n",
    "import matplotlib.pyplot as plt\n",
    "import numpy as np\n",
    "import glob\n",
    "import os\n",
    "\n"
   ]
  },
  {
   "cell_type": "code",
   "execution_count": 3,
   "metadata": {},
   "outputs": [
    {
     "name": "stdout",
     "output_type": "stream",
     "text": [
      "Esperamos trabalhar no diretório\n",
      "C:\\Users\\Usuario\n"
     ]
    }
   ],
   "source": [
    "print('Esperamos trabalhar no diretório')\n",
    "print(os.getcwd())"
   ]
  },
  {
   "cell_type": "code",
   "execution_count": 4,
   "metadata": {},
   "outputs": [
    {
     "data": {
      "text/plain": [
       "Unnamed: 0      int64\n",
       "V0101           int64\n",
       "UF              int64\n",
       "V0102           int64\n",
       "V0103           int64\n",
       "V0104           int64\n",
       "V0105         float64\n",
       "V0106         float64\n",
       "V0201         float64\n",
       "V0202         float64\n",
       "V0203         float64\n",
       "V0204         float64\n",
       "V0205         float64\n",
       "V0206         float64\n",
       "V0207         float64\n",
       "V0208         float64\n",
       "V0209         float64\n",
       "V0210         float64\n",
       "V0211         float64\n",
       "V0212         float64\n",
       "V0213         float64\n",
       "V0214         float64\n",
       "V0215         float64\n",
       "V0216         float64\n",
       "V2016         float64\n",
       "V0217         float64\n",
       "V0218         float64\n",
       "V0219         float64\n",
       "V0220         float64\n",
       "V2020         float64\n",
       "               ...   \n",
       "V02324        float64\n",
       "V02325        float64\n",
       "V02326        float64\n",
       "V02327        float64\n",
       "V02424        float64\n",
       "V02425        float64\n",
       "V02426        float64\n",
       "V2032         float64\n",
       "V4105           int64\n",
       "V4107           int64\n",
       "V4600         float64\n",
       "V4601         float64\n",
       "V4602           int64\n",
       "V4604           int64\n",
       "V4605         float64\n",
       "V4606           int64\n",
       "V4607         float64\n",
       "V4608         float64\n",
       "V4609           int64\n",
       "V4610           int64\n",
       "V4611         float64\n",
       "V4614         float64\n",
       "UPA             int64\n",
       "V4617           int64\n",
       "V4618           int64\n",
       "V4620         float64\n",
       "V4621         float64\n",
       "V4622         float64\n",
       "V4624         float64\n",
       "V9992           int64\n",
       "Length: 81, dtype: object"
      ]
     },
     "execution_count": 4,
     "metadata": {},
     "output_type": "execute_result"
    }
   ],
   "source": [
    "#Se usar o arquivo descompactado\n",
    "P2015 = pd.read_csv('DOM2015.csv')\n",
    "P2014 = pd.read_csv('DOM2014.csv')\n",
    "P2013 = pd.read_csv('DOM2013.csv')\n",
    "P2015.dtypes\n",
    "#Se usar o arquivo compactado como está no dropbox púbico\n",
    "#pd.read_csv('DOM2015csv.zip', compression='zip', header=0, sep=',', quotechar='\"')"
   ]
  },
  {
   "cell_type": "code",
   "execution_count": 17,
   "metadata": {},
   "outputs": [
    {
     "data": {
      "text/html": [
       "<div>\n",
       "<style>\n",
       "    .dataframe thead tr:only-child th {\n",
       "        text-align: right;\n",
       "    }\n",
       "\n",
       "    .dataframe thead th {\n",
       "        text-align: left;\n",
       "    }\n",
       "\n",
       "    .dataframe tbody tr th {\n",
       "        vertical-align: top;\n",
       "    }\n",
       "</style>\n",
       "<table border=\"1\" class=\"dataframe\">\n",
       "  <thead>\n",
       "    <tr style=\"text-align: right;\">\n",
       "      <th></th>\n",
       "      <th>UF</th>\n",
       "      <th>V02272</th>\n",
       "      <th>V02273</th>\n",
       "      <th>V02274</th>\n",
       "      <th>V02322</th>\n",
       "      <th>V02324</th>\n",
       "      <th>V02424</th>\n",
       "      <th>V02425</th>\n",
       "      <th>V02426</th>\n",
       "      <th>V4622</th>\n",
       "    </tr>\n",
       "  </thead>\n",
       "  <tbody>\n",
       "    <tr>\n",
       "      <th>3</th>\n",
       "      <td>11</td>\n",
       "      <td>3.0</td>\n",
       "      <td>1.0</td>\n",
       "      <td>3.0</td>\n",
       "      <td>2.0</td>\n",
       "      <td>2.0</td>\n",
       "      <td>2.0</td>\n",
       "      <td>4.0</td>\n",
       "      <td>2.0</td>\n",
       "      <td>4.0</td>\n",
       "    </tr>\n",
       "    <tr>\n",
       "      <th>5</th>\n",
       "      <td>11</td>\n",
       "      <td>3.0</td>\n",
       "      <td>1.0</td>\n",
       "      <td>1.0</td>\n",
       "      <td>2.0</td>\n",
       "      <td>4.0</td>\n",
       "      <td>4.0</td>\n",
       "      <td>4.0</td>\n",
       "      <td>2.0</td>\n",
       "      <td>5.0</td>\n",
       "    </tr>\n",
       "    <tr>\n",
       "      <th>8</th>\n",
       "      <td>11</td>\n",
       "      <td>3.0</td>\n",
       "      <td>1.0</td>\n",
       "      <td>3.0</td>\n",
       "      <td>2.0</td>\n",
       "      <td>2.0</td>\n",
       "      <td>2.0</td>\n",
       "      <td>4.0</td>\n",
       "      <td>2.0</td>\n",
       "      <td>4.0</td>\n",
       "    </tr>\n",
       "    <tr>\n",
       "      <th>10</th>\n",
       "      <td>11</td>\n",
       "      <td>1.0</td>\n",
       "      <td>1.0</td>\n",
       "      <td>3.0</td>\n",
       "      <td>2.0</td>\n",
       "      <td>2.0</td>\n",
       "      <td>2.0</td>\n",
       "      <td>4.0</td>\n",
       "      <td>2.0</td>\n",
       "      <td>5.0</td>\n",
       "    </tr>\n",
       "    <tr>\n",
       "      <th>11</th>\n",
       "      <td>11</td>\n",
       "      <td>3.0</td>\n",
       "      <td>1.0</td>\n",
       "      <td>1.0</td>\n",
       "      <td>2.0</td>\n",
       "      <td>2.0</td>\n",
       "      <td>2.0</td>\n",
       "      <td>4.0</td>\n",
       "      <td>2.0</td>\n",
       "      <td>6.0</td>\n",
       "    </tr>\n",
       "  </tbody>\n",
       "</table>\n",
       "</div>"
      ],
      "text/plain": [
       "    UF  V02272  V02273  V02274  V02322  V02324  V02424  V02425  V02426  V4622\n",
       "3   11     3.0     1.0     3.0     2.0     2.0     2.0     4.0     2.0    4.0\n",
       "5   11     3.0     1.0     1.0     2.0     4.0     4.0     4.0     2.0    5.0\n",
       "8   11     3.0     1.0     3.0     2.0     2.0     2.0     4.0     2.0    4.0\n",
       "10  11     1.0     1.0     3.0     2.0     2.0     2.0     4.0     2.0    5.0\n",
       "11  11     3.0     1.0     1.0     2.0     2.0     2.0     4.0     2.0    6.0"
      ]
     },
     "execution_count": 17,
     "metadata": {},
     "output_type": "execute_result"
    }
   ],
   "source": [
    "\n",
    "P15=P2015[['UF','V02272','V02273','V02274','V02322','V02324','V02424','V02425','V02426','V4622']]\n",
    "P14=P2014[['UF','V02272','V02273','V02274','V02322','V02324','V02424','V02425','V02426','V4622']]\n",
    "P13=P2013[['UF','V02272','V02273','V02274','V02322','V02324','V02424','V02425','V02426','V4622']]\n",
    "\n",
    "\n",
    "\n",
    "\n",
    "\n",
    "NNP15 = P15[pd.notnull(P15.UF)&pd.notnull(P15.V02272)&pd.notnull(P15.V02273)&pd.notnull(P15.V02274)&pd.notnull(P15.V02322)&pd.notnull(P15.V02324)&pd.notnull(P15.V02424)&pd.notnull(P15.V02425)&pd.notnull(P15.V02425)&pd.notnull(P15.V02425)]\n",
    "NNP14 = P14[pd.notnull(P14.UF)&pd.notnull(P14.V02272)&pd.notnull(P14.V02273)&pd.notnull(P14.V02274)&pd.notnull(P14.V02322)&pd.notnull(P14.V02324)&pd.notnull(P14.V02424)&pd.notnull(P14.V02425)&pd.notnull(P14.V02425)&pd.notnull(P14.V02425)]\n",
    "NNP13 = P13[pd.notnull(P13.UF)&pd.notnull(P13.V02272)&pd.notnull(P13.V02273)&pd.notnull(P13.V02274)&pd.notnull(P13.V02322)&pd.notnull(P13.V02324)&pd.notnull(P13.V02424)&pd.notnull(P13.V02425)&pd.notnull(P13.V02425)&pd.notnull(P13.V02425)]\n",
    "\n",
    "NNP15.to_csv('PNAD15.csv', sep='\\t')\n",
    "NNP14.to_csv('PNAD14.csv', sep='\\t')\n",
    "NNP13.to_csv('PNAD13.csv', sep='\\t')\n",
    "\n",
    "P15.head()\n",
    "NNP15.head()"
   ]
  },
  {
   "cell_type": "markdown",
   "metadata": {},
   "source": [
    "___\n",
    "## Conclusão "
   ]
  },
  {
   "cell_type": "markdown",
   "metadata": {
    "collapsed": true
   },
   "source": [
    "Descreva aqui suas conclusões!"
   ]
  },
  {
   "cell_type": "code",
   "execution_count": null,
   "metadata": {
    "collapsed": true
   },
   "outputs": [],
   "source": [
    "V4622\n",
    "V02426\n",
    "V02425\n",
    "V02424\n",
    "V02324\n",
    "V02322\n",
    "UF\n",
    "\n",
    "P2015.loc['UF','V02322','V02324','V02424','V02425','V02426','V4622']"
   ]
  }
 ],
 "metadata": {
  "anaconda-cloud": {},
  "kernelspec": {
   "display_name": "Python 3",
   "language": "python",
   "name": "python3"
  },
  "language_info": {
   "codemirror_mode": {
    "name": "ipython",
    "version": 3
   },
   "file_extension": ".py",
   "mimetype": "text/x-python",
   "name": "python",
   "nbconvert_exporter": "python",
   "pygments_lexer": "ipython3",
   "version": "3.6.0"
  }
 },
 "nbformat": 4,
 "nbformat_minor": 1
}
