{
 "cells": [
  {
   "cell_type": "markdown",
   "metadata": {},
   "source": [
    "___\n",
    "# Ciência dos Dados - PROJETO 1"
   ]
  },
  {
   "cell_type": "markdown",
   "metadata": {},
   "source": [
    "## Guilherme Leite\n",
    "___"
   ]
  },
  {
   "cell_type": "markdown",
   "metadata": {},
   "source": [
    "## Acesso à internet de pessoas de baixa renda em relação ao PIB do estado em que moram."
   ]
  },
  {
   "cell_type": "markdown",
   "metadata": {},
   "source": [
    "___\n",
    "## Introdução\n",
    "\n",
    "Como se da o acesso à internet e TV em famílias de baixa renda em relação ao estado em que residem, como a situação economica do seu estado, como infraestrutura, influenciam nesse acesso e se houve variação ao longo dos três anos estudados.\n"
   ]
  },
  {
   "cell_type": "markdown",
   "metadata": {},
   "source": [
    "___\n",
    "## Análise e Resultados"
   ]
  },
  {
   "cell_type": "code",
   "execution_count": 8,
   "metadata": {
    "collapsed": true
   },
   "outputs": [],
   "source": [
    "%matplotlib inline\n",
    "import pandas as pd\n",
    "import matplotlib.pyplot as plt\n",
    "import numpy as np\n",
    "import glob\n",
    "import os\n",
    "\n"
   ]
  },
  {
   "cell_type": "code",
   "execution_count": 9,
   "metadata": {},
   "outputs": [
    {
     "name": "stdout",
     "output_type": "stream",
     "text": [
      "Esperamos trabalhar no diretório\n",
      "C:\\Users\\Usuario\n"
     ]
    }
   ],
   "source": [
    "print('Esperamos trabalhar no diretório')\n",
    "print(os.getcwd())"
   ]
  },
  {
   "cell_type": "code",
   "execution_count": 10,
   "metadata": {},
   "outputs": [],
   "source": [
    "#Se usar o arquivo descompactado\n",
    "P2015 = pd.read_csv('DOM2015.csv')\n",
    "P2014 = pd.read_csv('DOM2014.csv')\n",
    "P2013 = pd.read_csv('DOM2013.csv')\n",
    "#P2015.dtypes\n",
    "#Se usar o arquivo compactado como está no dropbox púbico\n",
    "#pd.read_csv('DOM2015csv.zip', compression='zip', header=0, sep=',', quotechar='\"')"
   ]
  },
  {
   "cell_type": "code",
   "execution_count": 11,
   "metadata": {},
   "outputs": [
    {
     "name": "stderr",
     "output_type": "stream",
     "text": [
      "C:\\Users\\Usuario\\Anaconda3\\lib\\site-packages\\pandas\\core\\generic.py:3110: SettingWithCopyWarning: \n",
      "A value is trying to be set on a copy of a slice from a DataFrame.\n",
      "Try using .loc[row_indexer,col_indexer] = value instead\n",
      "\n",
      "See the caveats in the documentation: http://pandas.pydata.org/pandas-docs/stable/indexing.html#indexing-view-versus-copy\n",
      "  self[name] = value\n"
     ]
    },
    {
     "data": {
      "text/html": [
       "<div>\n",
       "<style>\n",
       "    .dataframe thead tr:only-child th {\n",
       "        text-align: right;\n",
       "    }\n",
       "\n",
       "    .dataframe thead th {\n",
       "        text-align: left;\n",
       "    }\n",
       "\n",
       "    .dataframe tbody tr th {\n",
       "        vertical-align: top;\n",
       "    }\n",
       "</style>\n",
       "<table border=\"1\" class=\"dataframe\">\n",
       "  <thead>\n",
       "    <tr style=\"text-align: right;\">\n",
       "      <th></th>\n",
       "      <th>UF</th>\n",
       "      <th>televisao por assinatura</th>\n",
       "      <th>televisao com recepcao de sinal digital de tv abertaa</th>\n",
       "      <th>televisao com antena parabolica</th>\n",
       "      <th>acesso a Internet no proprio domicilio</th>\n",
       "      <th>Para acessar Internet utiliza telefone celular</th>\n",
       "      <th>rede celular 3G ou 4G</th>\n",
       "      <th>conexao discada</th>\n",
       "      <th>banda larga</th>\n",
       "      <th>rendimento mensal domiciliar per capita</th>\n",
       "    </tr>\n",
       "  </thead>\n",
       "  <tbody>\n",
       "    <tr>\n",
       "      <th>3</th>\n",
       "      <td>11</td>\n",
       "      <td>3.0</td>\n",
       "      <td>1.0</td>\n",
       "      <td>3.0</td>\n",
       "      <td>2.0</td>\n",
       "      <td>2.0</td>\n",
       "      <td>2.0</td>\n",
       "      <td>4.0</td>\n",
       "      <td>2.0</td>\n",
       "      <td>4.0</td>\n",
       "    </tr>\n",
       "    <tr>\n",
       "      <th>5</th>\n",
       "      <td>11</td>\n",
       "      <td>3.0</td>\n",
       "      <td>1.0</td>\n",
       "      <td>1.0</td>\n",
       "      <td>2.0</td>\n",
       "      <td>4.0</td>\n",
       "      <td>4.0</td>\n",
       "      <td>4.0</td>\n",
       "      <td>2.0</td>\n",
       "      <td>5.0</td>\n",
       "    </tr>\n",
       "    <tr>\n",
       "      <th>8</th>\n",
       "      <td>11</td>\n",
       "      <td>3.0</td>\n",
       "      <td>1.0</td>\n",
       "      <td>3.0</td>\n",
       "      <td>2.0</td>\n",
       "      <td>2.0</td>\n",
       "      <td>2.0</td>\n",
       "      <td>4.0</td>\n",
       "      <td>2.0</td>\n",
       "      <td>4.0</td>\n",
       "    </tr>\n",
       "    <tr>\n",
       "      <th>10</th>\n",
       "      <td>11</td>\n",
       "      <td>1.0</td>\n",
       "      <td>1.0</td>\n",
       "      <td>3.0</td>\n",
       "      <td>2.0</td>\n",
       "      <td>2.0</td>\n",
       "      <td>2.0</td>\n",
       "      <td>4.0</td>\n",
       "      <td>2.0</td>\n",
       "      <td>5.0</td>\n",
       "    </tr>\n",
       "    <tr>\n",
       "      <th>11</th>\n",
       "      <td>11</td>\n",
       "      <td>3.0</td>\n",
       "      <td>1.0</td>\n",
       "      <td>1.0</td>\n",
       "      <td>2.0</td>\n",
       "      <td>2.0</td>\n",
       "      <td>2.0</td>\n",
       "      <td>4.0</td>\n",
       "      <td>2.0</td>\n",
       "      <td>6.0</td>\n",
       "    </tr>\n",
       "  </tbody>\n",
       "</table>\n",
       "</div>"
      ],
      "text/plain": [
       "    UF televisao por assinatura  \\\n",
       "3   11                      3.0   \n",
       "5   11                      3.0   \n",
       "8   11                      3.0   \n",
       "10  11                      1.0   \n",
       "11  11                      3.0   \n",
       "\n",
       "   televisao com recepcao de sinal digital de tv abertaa  \\\n",
       "3                                                 1.0      \n",
       "5                                                 1.0      \n",
       "8                                                 1.0      \n",
       "10                                                1.0      \n",
       "11                                                1.0      \n",
       "\n",
       "   televisao com antena parabolica acesso a Internet no proprio domicilio  \\\n",
       "3                              3.0                                    2.0   \n",
       "5                              1.0                                    2.0   \n",
       "8                              3.0                                    2.0   \n",
       "10                             3.0                                    2.0   \n",
       "11                             1.0                                    2.0   \n",
       "\n",
       "   Para acessar Internet utiliza telefone celular rede celular 3G ou 4G  \\\n",
       "3                                             2.0                   2.0   \n",
       "5                                             4.0                   4.0   \n",
       "8                                             2.0                   2.0   \n",
       "10                                            2.0                   2.0   \n",
       "11                                            2.0                   2.0   \n",
       "\n",
       "   conexao discada banda larga rendimento mensal domiciliar per capita  \n",
       "3              4.0         2.0                                     4.0  \n",
       "5              4.0         2.0                                     5.0  \n",
       "8              4.0         2.0                                     4.0  \n",
       "10             4.0         2.0                                     5.0  \n",
       "11             4.0         2.0                                     6.0  "
      ]
     },
     "execution_count": 11,
     "metadata": {},
     "output_type": "execute_result"
    }
   ],
   "source": [
    "\n",
    "P15=P2015[['UF','V02272','V02273','V02274','V02322','V02324','V02424','V02425','V02426','V4622']]\n",
    "P14=P2014[['UF','V02272','V02273','V02274','V02322','V02324','V02424','V02425','V02426','V4622']]\n",
    "P13=P2013[['UF','V02272','V02273','V02274','V02322','V02324','V02424','V02425','V02426','V4622']]\n",
    "\n",
    "NNP15 = P15[pd.notnull(P15.UF)&pd.notnull(P15.V02272)&pd.notnull(P15.V02273)&pd.notnull(P15.V02274)&pd.notnull(P15.V02322)&pd.notnull(P15.V02324)&pd.notnull(P15.V02424)&pd.notnull(P15.V02425)&pd.notnull(P15.V02425)&pd.notnull(P15.V02425)]\n",
    "NNP14 = P14[pd.notnull(P14.UF)&pd.notnull(P14.V02272)&pd.notnull(P14.V02273)&pd.notnull(P14.V02274)&pd.notnull(P14.V02322)&pd.notnull(P14.V02324)&pd.notnull(P14.V02424)&pd.notnull(P14.V02425)&pd.notnull(P14.V02425)&pd.notnull(P14.V02425)]\n",
    "NNP13 = P13[pd.notnull(P13.UF)&pd.notnull(P13.V02272)&pd.notnull(P13.V02273)&pd.notnull(P13.V02274)&pd.notnull(P13.V02322)&pd.notnull(P13.V02324)&pd.notnull(P13.V02424)&pd.notnull(P13.V02425)&pd.notnull(P13.V02425)&pd.notnull(P13.V02425)]\n",
    "\n",
    "NNP13.F = NNP13.UF.astype('category')\n",
    "NNP13.V02272 = NNP13.V02272.astype('category')\n",
    "NNP13.V02273 = NNP13.V02273.astype('category')\n",
    "NNP13.V02274 = NNP13.V02274.astype('category')\n",
    "NNP13.V02322 = NNP13.V02322.astype('category')\n",
    "NNP13.V02324 = NNP13.V02324.astype('category')\n",
    "NNP13.V02424 = NNP13.V02424.astype('category')\n",
    "NNP13.V02425 = NNP13.V02425.astype('category')\n",
    "NNP13.V02426 = NNP13.V02426.astype('category')\n",
    "NNP13.V4622 = NNP13.V4622.astype('category')\n",
    "\n",
    "NNP13 = NNP13.rename(columns = {'V02272':'televisao por assinatura'})\n",
    "NNP13 = NNP13.rename(columns = {'V02273':'televisao com recepcao de sinal digital de tv abertaa'})\n",
    "NNP13 = NNP13.rename(columns = {'V02274':'televisao com antena parabolica'})\n",
    "NNP13 = NNP13.rename(columns = {'V02322':'acesso a Internet no proprio domicilio'})\n",
    "NNP13 = NNP13.rename(columns = {'V02324':'Para acessar Internet utiliza telefone celular'})\n",
    "NNP13 = NNP13.rename(columns = {'V02424':'rede celular 3G ou 4G'})\n",
    "NNP13 = NNP13.rename(columns = {'V02425':'conexao discada'})\n",
    "NNP13 = NNP13.rename(columns = {'V02426':'banda larga'})\n",
    "NNP13 = NNP13.rename(columns = {'V4622':'rendimento mensal domiciliar per capita'})\n",
    "\n",
    "NNP14.UF = NNP14.UF.astype('category')\n",
    "NNP14.V02272 = NNP14.V02272.astype('category')\n",
    "NNP14.V02273 = NNP14.V02273.astype('category')\n",
    "NNP14.V02274 = NNP14.V02274.astype('category')\n",
    "NNP14.V02322 = NNP14.V02322.astype('category')\n",
    "NNP14.V02324 = NNP14.V02324.astype('category')\n",
    "NNP14.V02424 = NNP14.V02424.astype('category')\n",
    "NNP14.V02425 = NNP14.V02425.astype('category')\n",
    "NNP14.V02426 = NNP14.V02426.astype('category')\n",
    "NNP14.V4622 = NNP14.V4622.astype('category')\n",
    "\n",
    "NNP14 = NNP14.rename(columns = {'V02272':'televisao por assinatura'})\n",
    "NNP14 = NNP14.rename(columns = {'V02273':'televisao com recepcao de sinal digital de tv abertaa'})\n",
    "NNP14 = NNP14.rename(columns = {'V02274':'televisao com antena parabolica'})\n",
    "NNP14 = NNP14.rename(columns = {'V02322':'acesso a Internet no proprio domicilio'})\n",
    "NNP14 = NNP14.rename(columns = {'V02324':'Para acessar Internet utiliza telefone celular'})\n",
    "NNP14 = NNP14.rename(columns = {'V02424':'rede celular 3G ou 4G'})\n",
    "NNP14 = NNP14.rename(columns = {'V02425':'conexao discada'})\n",
    "NNP14 = NNP14.rename(columns = {'V02426':'banda larga'})\n",
    "NNP14 = NNP14.rename(columns = {'V4622':'rendimento mensal domiciliar per capita'})\n",
    "\n",
    "NNP15.UF = NNP15.UF.astype('category')\n",
    "NNP15.V02272 = NNP15.V02272.astype('category')\n",
    "NNP15.V02273 = NNP15.V02273.astype('category')\n",
    "NNP15.V02274 = NNP15.V02274.astype('category')\n",
    "NNP15.V02322 = NNP15.V02322.astype('category')\n",
    "NNP15.V02324 = NNP15.V02324.astype('category')\n",
    "NNP15.V02424 = NNP15.V02424.astype('category')\n",
    "NNP15.V02425 = NNP15.V02425.astype('category')\n",
    "NNP15.V02426 = NNP15.V02426.astype('category')\n",
    "NNP15.V4622 = NNP15.V4622.astype('category')\n",
    "\n",
    "NNP15 = NNP15.rename(columns = {'V02272':'televisao por assinatura'})\n",
    "NNP15 = NNP15.rename(columns = {'V02273':'televisao com recepcao de sinal digital de tv abertaa'})\n",
    "NNP15 = NNP15.rename(columns = {'V02274':'televisao com antena parabolica'})\n",
    "NNP15 = NNP15.rename(columns = {'V02322':'acesso a Internet no proprio domicilio'})\n",
    "NNP15 = NNP15.rename(columns = {'V02324':'Para acessar Internet utiliza telefone celular'})\n",
    "NNP15 = NNP15.rename(columns = {'V02424':'rede celular 3G ou 4G'})\n",
    "NNP15 = NNP15.rename(columns = {'V02425':'conexao discada'})\n",
    "NNP15 = NNP15.rename(columns = {'V02426':'banda larga'})\n",
    "NNP15 = NNP15.rename(columns = {'V4622':'rendimento mensal domiciliar per capita'})\n",
    "\n",
    "NNP15.to_csv('PNAD15.csv', sep='\\t')\n",
    "NNP14.to_csv('PNAD14.csv', sep='\\t')\n",
    "NNP13.to_csv('PNAD13.csv', sep='\\t')\n",
    "\n",
    "P15.head()\n",
    "NNP15.head()"
   ]
  },
  {
   "cell_type": "markdown",
   "metadata": {},
   "source": [
    "___\n",
    "## Conclusão "
   ]
  },
  {
   "cell_type": "markdown",
   "metadata": {
    "collapsed": true
   },
   "source": [
    "Descreva aqui suas conclusões!"
   ]
  },
  {
   "cell_type": "code",
   "execution_count": null,
   "metadata": {},
   "outputs": [],
   "source": []
  },
  {
   "cell_type": "code",
   "execution_count": null,
   "metadata": {
    "collapsed": true
   },
   "outputs": [],
   "source": []
  }
 ],
 "metadata": {
  "anaconda-cloud": {},
  "kernelspec": {
   "display_name": "Python 3",
   "language": "python",
   "name": "python3"
  },
  "language_info": {
   "codemirror_mode": {
    "name": "ipython",
    "version": 3
   },
   "file_extension": ".py",
   "mimetype": "text/x-python",
   "name": "python",
   "nbconvert_exporter": "python",
   "pygments_lexer": "ipython3",
   "version": "3.6.0"
  }
 },
 "nbformat": 4,
 "nbformat_minor": 1
}
