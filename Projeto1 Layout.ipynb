{
 "cells": [
  {
   "cell_type": "markdown",
   "metadata": {},
   "source": [
    "___\n",
    "# Ciência dos Dados - PROJETO 1"
   ]
  },
  {
   "cell_type": "markdown",
   "metadata": {},
   "source": [
    "## Guilherme Leite\n",
    "___"
   ]
  },
  {
   "cell_type": "markdown",
   "metadata": {},
   "source": [
    "## Acesso à internet de pessoas de baixa renda em relação ao PIB do estado em que moram."
   ]
  },
  {
   "cell_type": "markdown",
   "metadata": {},
   "source": [
    "___\n",
    "## Introdução\n",
    "\n",
    "Como se da o acesso à internet em famílias de baixa renda em relação ao estado em que residem.\n"
   ]
  },
  {
   "cell_type": "markdown",
   "metadata": {},
   "source": [
    "___\n",
    "## Análise e Resultados"
   ]
  },
  {
   "cell_type": "code",
   "execution_count": 30,
   "metadata": {
    "collapsed": true
   },
   "outputs": [],
   "source": [
    "%matplotlib inline\n",
    "import pandas as pd\n",
    "import matplotlib.pyplot as plt\n",
    "import numpy as np\n",
    "import glob\n",
    "import os\n",
    "\n"
   ]
  },
  {
   "cell_type": "code",
   "execution_count": 31,
   "metadata": {},
   "outputs": [
    {
     "name": "stdout",
     "output_type": "stream",
     "text": [
      "Esperamos trabalhar no diretório\n",
      "C:\\Users\\Usuario\n"
     ]
    }
   ],
   "source": [
    "print('Esperamos trabalhar no diretório')\n",
    "print(os.getcwd())"
   ]
  },
  {
   "cell_type": "code",
   "execution_count": 32,
   "metadata": {},
   "outputs": [
    {
     "data": {
      "text/plain": [
       "Unnamed: 0      int64\n",
       "V0101           int64\n",
       "UF              int64\n",
       "V0102           int64\n",
       "V0103           int64\n",
       "V0104           int64\n",
       "V0105         float64\n",
       "V0106         float64\n",
       "V0201         float64\n",
       "V0202         float64\n",
       "V0203         float64\n",
       "V0204         float64\n",
       "V0205         float64\n",
       "V0206         float64\n",
       "V0207         float64\n",
       "V0208         float64\n",
       "V0209         float64\n",
       "V0210         float64\n",
       "V0211         float64\n",
       "V0212         float64\n",
       "V0213         float64\n",
       "V0214         float64\n",
       "V0215         float64\n",
       "V0216         float64\n",
       "V2016         float64\n",
       "V0217         float64\n",
       "V0218         float64\n",
       "V0219         float64\n",
       "V0220         float64\n",
       "V2020         float64\n",
       "               ...   \n",
       "V02324        float64\n",
       "V02325        float64\n",
       "V02326        float64\n",
       "V02327        float64\n",
       "V02424        float64\n",
       "V02425        float64\n",
       "V02426        float64\n",
       "V2032         float64\n",
       "V4105           int64\n",
       "V4107           int64\n",
       "V4600         float64\n",
       "V4601         float64\n",
       "V4602           int64\n",
       "V4604           int64\n",
       "V4605         float64\n",
       "V4606           int64\n",
       "V4607         float64\n",
       "V4608         float64\n",
       "V4609           int64\n",
       "V4610           int64\n",
       "V4611         float64\n",
       "V4614         float64\n",
       "UPA             int64\n",
       "V4617           int64\n",
       "V4618           int64\n",
       "V4620         float64\n",
       "V4621         float64\n",
       "V4622         float64\n",
       "V4624         float64\n",
       "V9992           int64\n",
       "Length: 81, dtype: object"
      ]
     },
     "execution_count": 32,
     "metadata": {},
     "output_type": "execute_result"
    }
   ],
   "source": [
    "#Se usar o arquivo descompactado\n",
    "P2015 = pd.read_csv('DOM2015.csv')\n",
    "P2014 = pd.read_csv('DOM2014.csv')\n",
    "P2013 = pd.read_csv('DOM2013.csv')\n",
    "P2015.dtypes\n",
    "#Se usar o arquivo compactado como está no dropbox púbico\n",
    "#pd.read_csv('DOM2015csv.zip', compression='zip', header=0, sep=',', quotechar='\"')"
   ]
  },
  {
   "cell_type": "code",
   "execution_count": 46,
   "metadata": {},
   "outputs": [],
   "source": [
    "\n",
    "P15=P2015[['UF','V02322','V02324','V02424','V02425','V02426','V4622']]\n",
    "P14=P2014[['UF','V02322','V02324','V02424','V02425','V02426','V4622']]\n",
    "P13=P2013[['UF','V02322','V02324','V02424','V02425','V02426','V4622']]\n",
    "\n",
    "P15.head()\n",
    "\n",
    "P15.to_csv('PNAD15.csv', sep='\\t')\n",
    "P14.to_csv('PNAD14.csv', sep='\\t')\n",
    "P13.to_csv('PNAD13.csv', sep='\\t')"
   ]
  },
  {
   "cell_type": "markdown",
   "metadata": {},
   "source": [
    "___\n",
    "## Conclusão "
   ]
  },
  {
   "cell_type": "markdown",
   "metadata": {
    "collapsed": true
   },
   "source": [
    "Descreva aqui suas conclusões!"
   ]
  },
  {
   "cell_type": "code",
   "execution_count": null,
   "metadata": {
    "collapsed": true
   },
   "outputs": [],
   "source": [
    "V4622\n",
    "V02426\n",
    "V02425\n",
    "V02424\n",
    "V02324\n",
    "V02322\n",
    "UF\n",
    "\n",
    "P2015.loc['UF','V02322','V02324','V02424','V02425','V02426','V4622']"
   ]
  }
 ],
 "metadata": {
  "anaconda-cloud": {},
  "kernelspec": {
   "display_name": "Python 3",
   "language": "python",
   "name": "python3"
  },
  "language_info": {
   "codemirror_mode": {
    "name": "ipython",
    "version": 3
   },
   "file_extension": ".py",
   "mimetype": "text/x-python",
   "name": "python",
   "nbconvert_exporter": "python",
   "pygments_lexer": "ipython3",
   "version": "3.6.0"
  }
 },
 "nbformat": 4,
 "nbformat_minor": 1
}
